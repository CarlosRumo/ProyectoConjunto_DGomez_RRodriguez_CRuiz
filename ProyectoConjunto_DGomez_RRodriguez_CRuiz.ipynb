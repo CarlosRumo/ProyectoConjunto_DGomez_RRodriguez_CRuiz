{
 "cells": [
  {
 
    "# Tarea 1 - Proyecto conjunto Github y resumen python \n",
    "\n",
    "- ### Doris Gómez Contreras\n",
    "- ### Carlos Enrique Ruiz Moreno\n",
    "- ### Ricardo Rodriguez Salcedo\n",
    "\n",
    "## Expectativas del curso\n",
    "\n",
    "<p align = \"justify\"> Nuestras expectativas para el curso de Simulación de procesos financieros es que logremos aprender las técnicas de programación en Python para lograr simular varios procesos dentro de negocio o en la Bolsa. Nos gustaría poder seguir avanzando en nuestras técnicas y habilidades para la programación, ya que sabemos que si estas técnicas se aprenden correctamente pueden representar una gran ventaja a la hora de buscar trabajo. <p align = \"justify\">\n",
    "\n",
    "<p align = \"justify\"> Esperamos que al finalizar este curso hayamos comprendido todas las simulaciones con las que trabajemos en esta clase y las sepamos aplicar correctamente en otros proyectos o trabajos que tengamos. También esperamos que la modalidad de clase en linea no dificulte nuestro proceso de aprendizaje y que no nos desmotive a estudiar una materia que al parecer será algo pesada.\n",
    "    \n",
    "---   \n",
    "\n",
    "## Resumen Documento economist 1\n",
    "    \n",
    "La noticia de la página web \"The Economist\" nos habla acerca de como el lenguaje de programación Python se ha ido convirtiendo en uno de los más populares y más usados dentro de la comunidad que se dedica a programar, ya sea por profesión, educación o simplemente diversión. \n",
    "    \n",
    "Su creador, Guido Van Rossum quien es un científico de computadoras holandés, comenta que el jamás llego a imaginarse que su lenguaje de programación fuera a llegar a las masas cuando lo creó tres décadas atrás. Sin embargo, hoy en día, Python es uno de los lenguajes más usado en el mundo, logrando parase a la par de otros lenguajes como C, C++, Java o JavaScript.\n",
    "\n",
    "Las dos grandes ventajas del lenguaje es su simplicidad y felixibilidad, es bastante facil de aprender para quienes se van inicando en el mundo de la programación. Sus usuarios profesionales, conocidos como Pythonistas, han subido a la nube más de 145,000 paquetes de software a un repositorio online. Los programas creados van desde desarrollo de videojuegos hasta astronomía.\n",
    "    \n",
    "Esta gran versatilidad con la que cuenta el lenguaje ha hecho que grandes empresas y organizaciones tales como la CIA, Google, Pixar y Spotify lo utilicen para crear contenido.\n",
    "    \n",
    "![image.png](attachment:image.png)\n",
    "\n",
    "    \n",
    "cambio de prueba\n",
    "    \n"
   ]
=======
   "outputs": [],
   "source": []
  },
  {
   "cell_type": "code",
   "execution_count": 26,
   "metadata": {},
   "outputs": [],
   "source": []
>>>>>>> parent of effc516... Expectativas del curso y resumen noticia
  },
  {
   "cell_type": "markdown",
   "metadata": {},
   "source": [
    "\n",
    "   <span style=\"color:skyblue\">Kemna y Vorst (1990)</span>  muestran que las opciones asiáticas con media geométrica continua se pueden valuar con el mismo enfoque de las opciones *plain vanilla*; solo se deben cambiar los parámetros de volatilidad $\\sigma$ por $\\sigma_{a}$ , y el costo de acarrero *b* por $b_A$.\n",
    "\n",
    "De acuerdo con Kemna y Vorst, las formulas para valuar una opción de compra y una opción de venta son:\n",
    "$$ c \\approx S_t e^{(b_A-r)(T-t)}\\phi(d_1)-Ke^{-r(T-t)}\\phi(d_2),$$\n",
    "\n",
    "$$ p \\approx Ke^{(T-t)}\\phi(-d_2)-S_te^{(b_A-r)(T-t)}\\phi(-d_1).$$\n",
    "con *$d_1$* y *$d_2$* dados por:\n",
    "$$d_1 = \\frac{ln(S_t/K)+(b_A+1/2\\sigma^2_a)(T-t)}{\\sigma \\sqrt{T-t}},$$\n",
    "$$d_2 = d_1-\\sigma_a\\sqrt{T-t}$$\n",
    "La función $\\sigma$(d) es la función de distribución acumulada de E~N(0,1). La volatilidad ajustada es igual a:\n",
    "$$\\sigma_a=\\frac{\\sigma}{\\sqrt{3}},$$\n",
    "mientras que el costo de acarreo ajustado es:\n",
    "$$b_A= \\frac{1}{2}(v-\\frac{\\sigma^2}{6}).$$"
   ]
  },
  {
   "cell_type": "code",
   "execution_count": null,
   "metadata": {},
   "outputs": [],
   "source": []
  },
  {
   "cell_type": "markdown",
   "metadata": {},
   "source": []
  }
 ],
 "metadata": {
  "kernelspec": {
   "display_name": "Python 3",
   "language": "python",
   "name": "python3"
  },
  "language_info": {
   "codemirror_mode": {
    "name": "ipython",
    "version": 3
   },
   "file_extension": ".py",
   "mimetype": "text/x-python",
   "name": "python",
   "nbconvert_exporter": "python",
   "pygments_lexer": "ipython3",
   "version": "3.7.4"
  }
 },
 "nbformat": 4,
 "nbformat_minor": 4
}
